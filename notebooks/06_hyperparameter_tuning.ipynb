{
 "cells": [
  {
   "cell_type": "code",
   "execution_count": 1,
   "id": "e3955c8a",
   "metadata": {},
   "outputs": [],
   "source": [
    "import pandas as pd\n",
    "from sklearn.model_selection import GridSearchCV, RandomizedSearchCV, train_test_split\n",
    "from sklearn.svm import SVC\n",
    "from sklearn.metrics import accuracy_score, precision_score, recall_score, f1_score, roc_auc_score\n",
    "import joblib\n",
    "import numpy as np\n"
   ]
  },
  {
   "cell_type": "code",
   "execution_count": null,
   "id": "b685d0c8",
   "metadata": {},
   "outputs": [
    {
     "name": "stdout",
     "output_type": "stream",
     "text": [
      "Shape: (303, 20) (303,)\n"
     ]
    }
   ],
   "source": [
    "#  Load cleaned dataset\n",
    "df = pd.read_csv(\"../data/heart_disease_cleaned.csv\")\n",
    "\n",
    "X = df.drop(columns=[\"target\", \"target_bin\"], errors=\"ignore\")\n",
    "y = df[\"target_bin\"]\n",
    "\n",
    "print(\"Shape:\", X.shape, y.shape)\n"
   ]
  },
  {
   "cell_type": "code",
   "execution_count": 3,
   "id": "87d951d0",
   "metadata": {},
   "outputs": [],
   "source": [
    "#  Train/test split\n",
    "X_train, X_test, y_train, y_test = train_test_split(\n",
    "    X, y, test_size=0.2, stratify=y, random_state=42\n",
    ")\n"
   ]
  },
  {
   "cell_type": "code",
   "execution_count": 4,
   "id": "f2734f77",
   "metadata": {},
   "outputs": [
    {
     "name": "stdout",
     "output_type": "stream",
     "text": [
      "Best params (RandomizedSearchCV): {'kernel': 'poly', 'gamma': np.float64(1.0), 'C': np.float64(0.01)}\n"
     ]
    }
   ],
   "source": [
    "#  Randomized Search for SVM\n",
    "param_dist = {\n",
    "    \"C\": np.logspace(-3, 3, 7),\n",
    "    \"gamma\": np.logspace(-3, 3, 7),\n",
    "    \"kernel\": [\"rbf\", \"poly\", \"sigmoid\"]\n",
    "}\n",
    "\n",
    "svm = SVC(probability=True, random_state=42)\n",
    "\n",
    "random_search = RandomizedSearchCV(\n",
    "    estimator=svm,\n",
    "    param_distributions=param_dist,\n",
    "    n_iter=10,\n",
    "    scoring=\"roc_auc\",\n",
    "    cv=5,\n",
    "    random_state=42,\n",
    "    n_jobs=-1\n",
    ")\n",
    "\n",
    "random_search.fit(X_train, y_train)\n",
    "print(\"Best params (RandomizedSearchCV):\", random_search.best_params_)\n"
   ]
  },
  {
   "cell_type": "code",
   "execution_count": 5,
   "id": "ddd2fc90",
   "metadata": {},
   "outputs": [
    {
     "name": "stdout",
     "output_type": "stream",
     "text": [
      "Best params (GridSearchCV): {'C': np.float64(0.005), 'gamma': np.float64(0.5), 'kernel': 'poly'}\n"
     ]
    }
   ],
   "source": [
    "# Cell 4: Grid Search (refine around best params)\n",
    "best_params = random_search.best_params_\n",
    "\n",
    "param_grid = {\n",
    "    \"C\": [best_params[\"C\"]/2, best_params[\"C\"], best_params[\"C\"]*2],\n",
    "    \"gamma\": [best_params[\"gamma\"]/2, best_params[\"gamma\"], best_params[\"gamma\"]*2],\n",
    "    \"kernel\": [best_params[\"kernel\"]]\n",
    "}\n",
    "\n",
    "grid_search = GridSearchCV(\n",
    "    estimator=svm,\n",
    "    param_grid=param_grid,\n",
    "    scoring=\"roc_auc\",\n",
    "    cv=5,\n",
    "    n_jobs=-1\n",
    ")\n",
    "\n",
    "grid_search.fit(X_train, y_train)\n",
    "print(\"Best params (GridSearchCV):\", grid_search.best_params_)\n"
   ]
  },
  {
   "cell_type": "code",
   "execution_count": 6,
   "id": "7e728eb1",
   "metadata": {},
   "outputs": [
    {
     "name": "stdout",
     "output_type": "stream",
     "text": [
      "Accuracy: 0.819672131147541\n",
      "Precision: 1.0\n",
      "Recall: 0.6071428571428571\n",
      "F1: 0.7555555555555555\n",
      "ROC-AUC: 0.9491341991341992\n"
     ]
    }
   ],
   "source": [
    "#  Evaluate the tuned model on test set\n",
    "best_svm = grid_search.best_estimator_\n",
    "\n",
    "y_pred = best_svm.predict(X_test)\n",
    "y_proba = best_svm.predict_proba(X_test)[:, 1]\n",
    "\n",
    "print(\"Accuracy:\", accuracy_score(y_test, y_pred))\n",
    "print(\"Precision:\", precision_score(y_test, y_pred))\n",
    "print(\"Recall:\", recall_score(y_test, y_pred))\n",
    "print(\"F1:\", f1_score(y_test, y_pred))\n",
    "print(\"ROC-AUC:\", roc_auc_score(y_test, y_proba))\n"
   ]
  },
  {
   "cell_type": "code",
   "execution_count": 7,
   "id": "a90dc92f",
   "metadata": {},
   "outputs": [
    {
     "name": "stdout",
     "output_type": "stream",
     "text": [
      "Tuned SVM model saved to: ../models/svm_tuned.joblib\n"
     ]
    }
   ],
   "source": [
    "#  Save the tuned SVM model\n",
    "MODEL_DIR = \"../models\"\n",
    "best_model_path = MODEL_DIR + \"/svm_tuned.joblib\"\n",
    "\n",
    "joblib.dump(best_svm, best_model_path)\n",
    "print(\"Tuned SVM model saved to:\", best_model_path)\n"
   ]
  },
  {
   "cell_type": "code",
   "execution_count": null,
   "id": "dcfd5ca1",
   "metadata": {},
   "outputs": [],
   "source": []
  }
 ],
 "metadata": {
  "kernelspec": {
   "display_name": "Python 3",
   "language": "python",
   "name": "python3"
  },
  "language_info": {
   "codemirror_mode": {
    "name": "ipython",
    "version": 3
   },
   "file_extension": ".py",
   "mimetype": "text/x-python",
   "name": "python",
   "nbconvert_exporter": "python",
   "pygments_lexer": "ipython3",
   "version": "3.13.0"
  }
 },
 "nbformat": 4,
 "nbformat_minor": 5
}
